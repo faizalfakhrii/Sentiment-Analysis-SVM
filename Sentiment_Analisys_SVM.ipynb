{
  "nbformat": 4,
  "nbformat_minor": 0,
  "metadata": {
    "colab": {
      "name": "Sentiment Analisys SVM",
      "provenance": [],
      "collapsed_sections": []
    },
    "kernelspec": {
      "display_name": "Python 3",
      "language": "python",
      "name": "python3"
    },
    "language_info": {
      "codemirror_mode": {
        "name": "ipython",
        "version": 3
      },
      "file_extension": ".py",
      "mimetype": "text/x-python",
      "name": "python",
      "nbconvert_exporter": "python",
      "pygments_lexer": "ipython3",
      "version": "3.7.5"
    }
  },
  "cells": [
    {
      "cell_type": "markdown",
      "metadata": {
        "id": "KqXMUK4g_E3x"
      },
      "source": [
        "# Eksperimen"
      ]
    },
    {
      "cell_type": "code",
      "metadata": {
        "id": "SIrFNOAJE83S"
      },
      "source": [
        "#library Preprocessing\n",
        "!pip install Sastrawi\n",
        "\n",
        "import string\n",
        "import re\n",
        "import numpy as np\n",
        "import pandas as pd\n",
        "from Sastrawi.Stemmer.StemmerFactory import StemmerFactory\n",
        "\n",
        "#library feature extraction/classifier/evaluation\n",
        "from sklearn import preprocessing, model_selection, svm\n",
        "from sklearn.feature_extraction.text import CountVectorizer, TfidfVectorizer\n",
        "from sklearn.metrics import accuracy_score, f1_score, confusion_matrix, classification_report\n",
        "\n",
        "#library visualization\n",
        "import matplotlib\n",
        "from matplotlib import pyplot as plt\n",
        "import seaborn as sns\n",
        "%matplotlib inline\n",
        "%config InlineBackend.figure_format = 'retina'"
      ],
      "execution_count": 74,
      "outputs": []
    },
    {
      "cell_type": "code",
      "metadata": {
        "id": "BvP5yoydFAn8"
      },
      "source": [
        "np.random.seed(123)"
      ],
      "execution_count": 3,
      "outputs": []
    },
    {
      "cell_type": "code",
      "metadata": {
        "id": "rDrckhPDizLX",
        "cellView": "code"
      },
      "source": [
        "#Baca Dataset\n",
        "data = pd.read_csv(\"Dataset.csv\",sep=\";\", encoding='utf-8')"
      ],
      "execution_count": 41,
      "outputs": []
    },
    {
      "cell_type": "code",
      "metadata": {
        "colab": {
          "base_uri": "https://localhost:8080/",
          "height": 202
        },
        "id": "uuhfHgHhIFZr",
        "outputId": "b0bc0187-462f-41fd-e924-7c052f6adc0b"
      },
      "source": [
        "data.head()"
      ],
      "execution_count": 10,
      "outputs": [
        {
          "output_type": "execute_result",
          "data": {
            "text/html": [
              "<div>\n",
              "<style scoped>\n",
              "    .dataframe tbody tr th:only-of-type {\n",
              "        vertical-align: middle;\n",
              "    }\n",
              "\n",
              "    .dataframe tbody tr th {\n",
              "        vertical-align: top;\n",
              "    }\n",
              "\n",
              "    .dataframe thead th {\n",
              "        text-align: right;\n",
              "    }\n",
              "</style>\n",
              "<table border=\"1\" class=\"dataframe\">\n",
              "  <thead>\n",
              "    <tr style=\"text-align: right;\">\n",
              "      <th></th>\n",
              "      <th>Value</th>\n",
              "      <th>tweet</th>\n",
              "    </tr>\n",
              "  </thead>\n",
              "  <tbody>\n",
              "    <tr>\n",
              "      <th>0</th>\n",
              "      <td>Positif</td>\n",
              "      <td>@Tiger_super09 @PLindungi thx infonya</td>\n",
              "    </tr>\n",
              "    <tr>\n",
              "      <th>1</th>\n",
              "      <td>Positif</td>\n",
              "      <td>@choc0oojull @PLindungi Kalau gak bisa kasih s...</td>\n",
              "    </tr>\n",
              "    <tr>\n",
              "      <th>2</th>\n",
              "      <td>Positif</td>\n",
              "      <td>@choc0oojull @PLindungi Coba suruh orang yang ...</td>\n",
              "    </tr>\n",
              "    <tr>\n",
              "      <th>3</th>\n",
              "      <td>Positif</td>\n",
              "      <td>@choc0oojull @PLindungi Doi siape wkwkwk tp ak...</td>\n",
              "    </tr>\n",
              "    <tr>\n",
              "      <th>4</th>\n",
              "      <td>Positif</td>\n",
              "      <td>@Tiger_super09 @PLindungi udahh, ngga responsi...</td>\n",
              "    </tr>\n",
              "  </tbody>\n",
              "</table>\n",
              "</div>"
            ],
            "text/plain": [
              "     Value                                              tweet\n",
              "0  Positif              @Tiger_super09 @PLindungi thx infonya\n",
              "1  Positif  @choc0oojull @PLindungi Kalau gak bisa kasih s...\n",
              "2  Positif  @choc0oojull @PLindungi Coba suruh orang yang ...\n",
              "3  Positif  @choc0oojull @PLindungi Doi siape wkwkwk tp ak...\n",
              "4  Positif  @Tiger_super09 @PLindungi udahh, ngga responsi..."
            ]
          },
          "metadata": {},
          "execution_count": 10
        }
      ]
    },
    {
      "cell_type": "code",
      "metadata": {
        "id": "MIDmQ5-VFDzs"
      },
      "source": [
        "#funtcion hapus tanda baca dan @\n",
        "def remove_punctuation_and_number(text):\n",
        "    text = re.sub(\"@[A-Za-z0-9]+\",\"\",text)  \n",
        "    text = re.sub(\"_[A-Za-z0-9]+\",\"\",text)\n",
        "    text = re.sub(r\"\\d+\",\"\",text)\n",
        "    for sp in string.punctuation:\n",
        "        text = text.replace(sp, \" \")\n",
        "    return text.replace('/\\s\\s+/g', ' ')\n",
        "\n",
        "data['tweet'] = data['tweet'].apply(remove_punctuation_and_number)"
      ],
      "execution_count": 43,
      "outputs": []
    },
    {
      "cell_type": "code",
      "metadata": {
        "colab": {
          "base_uri": "https://localhost:8080/",
          "height": 34
        },
        "id": "2c-yN8QUxPxY",
        "outputId": "c5debc0e-3df0-43cb-fca5-9c7ede58a6e5"
      },
      "source": [
        "data['tweet'][3]"
      ],
      "execution_count": 44,
      "outputs": [
        {
          "output_type": "execute_result",
          "data": {
            "application/vnd.google.colaboratory.intrinsic+json": {
              "type": "string"
            },
            "text/plain": [
              "'  Doi siape wkwkwk tp aku dapet sms   nya'"
            ]
          },
          "metadata": {},
          "execution_count": 44
        }
      ]
    },
    {
      "cell_type": "code",
      "metadata": {
        "id": "C1TylO7eFHGS"
      },
      "source": [
        "#stopword\n",
        "sw = [\"aja\",\"agan\",\"barang\",\"beli\",\"baru\",\"ada\",\"adalah\",\"ajaa\",\"akan\",\"aku\",\"atas\",\"buat\",\"boss\",\"agak\",\"agar\",\"apa\",\"biar\",\"bsa\",\"alhmdulillah\",\"alhamdulilah\",\"akhir\",\"allah\",\"ane\",\"arn\",\"atau\",\"audah\",\"bang\",\"aaaa\",\"about\",\"adik\",\"ah\",\"admin\",\"and\",\"as\",\"bakalan\",\"barank\",\"amin\",\"begini\",\"begitu\",\"beberapa\"]\n",
        "\n",
        "#function hapus stopword\n",
        "def stopwords(text):\n",
        "    '''a function for removing the stopword'''\n",
        "    import re\n",
        "    text = [word.lower() for word in text.split()]\n",
        "    for word in text:\n",
        "        for stop in sw:\n",
        "            if word==stop:\n",
        "                text.remove(word)\n",
        "    text = \" \".join(text)\n",
        "    text = re.sub(r'(.+?)\\1+', r'\\1',text)\n",
        "    return text\n",
        "\n",
        "data['tweet'] = data['tweet'].apply(stopwords)"
      ],
      "execution_count": 45,
      "outputs": []
    },
    {
      "cell_type": "code",
      "metadata": {
        "colab": {
          "base_uri": "https://localhost:8080/"
        },
        "id": "MdcfQd2zFSoR",
        "outputId": "3135217f-4733-4fe5-90d9-17e260626ffc"
      },
      "source": [
        "#stemming - hapus imbuhan\n",
        "factory = StemmerFactory()\n",
        "stemmer = factory.create_stemmer()\n",
        "def stemming(text):\n",
        "    text = [stemmer.stem(word) for word in text.split()]\n",
        "    return \" \".join(text)\n",
        "data['tweet'] = data['tweet'].apply(stemming)"
      ],
      "execution_count": 46,
      "outputs": [
        {
          "output_type": "stream",
          "name": "stdout",
          "text": [
            "Collecting Sastrawi\n",
            "  Downloading Sastrawi-1.0.1-py2.py3-none-any.whl (209 kB)\n",
            "\u001b[?25l\r\u001b[K     |█▋                              | 10 kB 24.7 MB/s eta 0:00:01\r\u001b[K     |███▏                            | 20 kB 28.1 MB/s eta 0:00:01\r\u001b[K     |████▊                           | 30 kB 12.1 MB/s eta 0:00:01\r\u001b[K     |██████▎                         | 40 kB 9.4 MB/s eta 0:00:01\r\u001b[K     |███████▉                        | 51 kB 5.5 MB/s eta 0:00:01\r\u001b[K     |█████████▍                      | 61 kB 6.0 MB/s eta 0:00:01\r\u001b[K     |███████████                     | 71 kB 5.8 MB/s eta 0:00:01\r\u001b[K     |████████████▌                   | 81 kB 6.4 MB/s eta 0:00:01\r\u001b[K     |██████████████                  | 92 kB 4.9 MB/s eta 0:00:01\r\u001b[K     |███████████████▋                | 102 kB 5.3 MB/s eta 0:00:01\r\u001b[K     |█████████████████▏              | 112 kB 5.3 MB/s eta 0:00:01\r\u001b[K     |██████████████████▊             | 122 kB 5.3 MB/s eta 0:00:01\r\u001b[K     |████████████████████▎           | 133 kB 5.3 MB/s eta 0:00:01\r\u001b[K     |█████████████████████▉          | 143 kB 5.3 MB/s eta 0:00:01\r\u001b[K     |███████████████████████▍        | 153 kB 5.3 MB/s eta 0:00:01\r\u001b[K     |█████████████████████████       | 163 kB 5.3 MB/s eta 0:00:01\r\u001b[K     |██████████████████████████▋     | 174 kB 5.3 MB/s eta 0:00:01\r\u001b[K     |████████████████████████████▏   | 184 kB 5.3 MB/s eta 0:00:01\r\u001b[K     |█████████████████████████████▊  | 194 kB 5.3 MB/s eta 0:00:01\r\u001b[K     |███████████████████████████████▎| 204 kB 5.3 MB/s eta 0:00:01\r\u001b[K     |████████████████████████████████| 209 kB 5.3 MB/s \n",
            "\u001b[?25hInstalling collected packages: Sastrawi\n",
            "Successfully installed Sastrawi-1.0.1\n"
          ]
        }
      ]
    },
    {
      "cell_type": "code",
      "metadata": {
        "id": "gLeTq3EeLG0y"
      },
      "source": [
        "#konversi label ke numeric type\n",
        "def labelToNumeric(category):\n",
        "        if category == 'Negatif':\n",
        "          return 0\n",
        "        elif category == 'Positif':\n",
        "          return 1\n",
        "        else :\n",
        "          return 0\n",
        "data['category'] = data['Value'].apply(labelToNumeric)"
      ],
      "execution_count": 142,
      "outputs": []
    },
    {
      "cell_type": "code",
      "metadata": {
        "id": "HUUhLNerEQZe",
        "colab": {
          "base_uri": "https://localhost:8080/"
        },
        "outputId": "f3b22ad4-cd1b-43af-9129-076053249b1f"
      },
      "source": [
        "data['category'].value_counts()"
      ],
      "execution_count": 143,
      "outputs": [
        {
          "output_type": "execute_result",
          "data": {
            "text/plain": [
              "0    637\n",
              "1    545\n",
              "Name: category, dtype: int64"
            ]
          },
          "metadata": {},
          "execution_count": 143
        }
      ]
    },
    {
      "cell_type": "code",
      "metadata": {
        "colab": {
          "base_uri": "https://localhost:8080/",
          "height": 607
        },
        "id": "5OLKpaosFggq",
        "outputId": "4cd1050e-4927-493f-c8f4-411dd2eafd16"
      },
      "source": [
        "tfidf_vectorizer = TfidfVectorizer()\n",
        "tfidf_vectorizer.fit(data['tweet'])\n",
        "dictionary = tfidf_vectorizer.vocabulary_.items()  \n",
        "vocab = []\n",
        "count = []\n",
        "for key, value in dictionary:\n",
        "    vocab.append(key)\n",
        "    count.append(value)\n",
        "vocab_bef_stem = pd.Series(count, index=vocab)\n",
        "vocab_bef_stem = vocab_bef_stem.sort_values(ascending=True)\n",
        "top_vacab = vocab_bef_stem.head(30)\n",
        "top_vacab.plot(kind = 'barh', figsize=(5,10))"
      ],
      "execution_count": 47,
      "outputs": [
        {
          "output_type": "execute_result",
          "data": {
            "text/plain": [
              "<matplotlib.axes._subplots.AxesSubplot at 0x7f1e3054ccd0>"
            ]
          },
          "metadata": {},
          "execution_count": 47
        },
        {
          "output_type": "display_data",
          "data": {
            "image/png": "[encoded data removed]",
            "text/plain": [
              "<Figure size 360x720 with 1 Axes>"
            ]
          },
          "metadata": {
            "image/png": {
              "width": 364,
              "height": 574
            },
            "needs_background": "light"
          }
        }
      ]
    },
    {
      "cell_type": "code",
      "metadata": {
        "id": "256fhd9TFj3m"
      },
      "source": [
        "#split dataset\n",
        "X_train, X_test, y_train, y_test = model_selection.train_test_split( data['tweet'], data['category'], test_size=0.3, random_state=42)"
      ],
      "execution_count": 121,
      "outputs": []
    },
    {
      "cell_type": "code",
      "metadata": {
        "id": "TCZa-CGbFs1R"
      },
      "source": [
        "#feature extraction/pembobotan menggunakan TF-IDF\n",
        "Tfidf_vect = TfidfVectorizer(max_features=5000)\n",
        "Tfidf_vect.fit(data['tweet'])\n",
        "X_train = Tfidf_vect.transform(X_train)\n",
        "X_test = Tfidf_vect.transform(X_test)"
      ],
      "execution_count": 122,
      "outputs": []
    },
    {
      "cell_type": "code",
      "metadata": {
        "colab": {
          "base_uri": "https://localhost:8080/"
        },
        "id": "L7OYooGk2LHe",
        "outputId": "c959adf0-b3b3-483a-a20f-dd2164ea82be"
      },
      "source": [
        "X_train"
      ],
      "execution_count": 123,
      "outputs": [
        {
          "output_type": "execute_result",
          "data": {
            "text/plain": [
              "<827x2826 sparse matrix of type '<class 'numpy.float64'>'\n",
              "\twith 14684 stored elements in Compressed Sparse Row format>"
            ]
          },
          "metadata": {},
          "execution_count": 123
        }
      ]
    },
    {
      "cell_type": "code",
      "metadata": {
        "id": "vO58UOaUFxNE",
        "colab": {
          "base_uri": "https://localhost:8080/"
        },
        "outputId": "62d4278f-21d7-46f5-ca42-9d91bd81b967"
      },
      "source": [
        "#inisialisasi model SVM menggunakan beberapa parameter\n",
        "model = svm.SVC(C=1.0, kernel='linear', degree=3, gamma='auto')\n",
        "\n",
        "#fitting dataset ke model\n",
        "model.fit(X_train,y_train)\n",
        "\n",
        "#prediksi\n",
        "y_pred = model.predict(X_test)\n",
        "\n",
        "#evaluasi performa\n",
        "print(\"SVM Accuracy Score -> \",accuracy_score(y_test, y_pred)*100)"
      ],
      "execution_count": 130,
      "outputs": [
        {
          "output_type": "stream",
          "name": "stdout",
          "text": [
            "SVM Accuracy Score ->  84.22535211267605\n"
          ]
        }
      ]
    },
    {
      "cell_type": "code",
      "metadata": {
        "id": "Hb-2yjtwizL2",
        "colab": {
          "base_uri": "https://localhost:8080/"
        },
        "outputId": "03b65d4f-a9cb-40bf-df63-b5843b3cf5fb"
      },
      "source": [
        "#evaluasi performa lebih baik mengguankan f1 score ketika dataset imbalance\n",
        "f1_score(y_test, y_pred, average='macro')"
      ],
      "execution_count": 126,
      "outputs": [
        {
          "output_type": "execute_result",
          "data": {
            "text/plain": [
              "0.8383739837398374"
            ]
          },
          "metadata": {},
          "execution_count": 126
        }
      ]
    },
    {
      "cell_type": "code",
      "metadata": {
        "id": "FjKz0N8EizL4",
        "colab": {
          "base_uri": "https://localhost:8080/"
        },
        "outputId": "1727f74b-d2a9-469a-9b79-a27b796c3d5c"
      },
      "source": [
        "y_pred = model.predict(X_test)\n",
        "\n",
        "print(classification_report(y_test, y_pred))"
      ],
      "execution_count": 127,
      "outputs": [
        {
          "output_type": "stream",
          "name": "stdout",
          "text": [
            "              precision    recall  f1-score   support\n",
            "\n",
            "           0       0.79      0.96      0.86       185\n",
            "           1       0.94      0.72      0.81       170\n",
            "\n",
            "    accuracy                           0.84       355\n",
            "   macro avg       0.86      0.84      0.84       355\n",
            "weighted avg       0.86      0.84      0.84       355\n",
            "\n"
          ]
        }
      ]
    },
    {
      "cell_type": "code",
      "metadata": {
        "colab": {
          "base_uri": "https://localhost:8080/",
          "height": 333
        },
        "id": "quZ99sPn20A0",
        "outputId": "434a60fc-6501-43e3-a271-ac1dce33e190"
      },
      "source": [
        "#Ketika grafik menunjukan matriks diagonal maka percobaan yang sudah dilakukan dapat dinyatakan valid\n",
        "f, ax = plt.subplots(figsize=(8,5))\n",
        "sns.heatmap(confusion_matrix(y_test, y_pred), annot=True, fmt=\".0f\", ax=ax)\n",
        "plt.xlabel(\"Predict\")\n",
        "plt.ylabel(\"True\")\n",
        "plt.show()"
      ],
      "execution_count": 129,
      "outputs": [
        {
          "output_type": "display_data",
          "data": {
            "image/png": "[encoded data removed]",
            "text/plain": [
              "<Figure size 576x360 with 2 Axes>"
            ]
          },
          "metadata": {
            "image/png": {
              "width": 463,
              "height": 316
            },
            "needs_background": "light"
          }
        }
      ]
    },
    {
      "cell_type": "markdown",
      "metadata": {
        "id": "f0_PUODC-rbN"
      },
      "source": [
        "# Oversampling\n",
        "Oversamping dilakukan ketika dataset tidak seimbang"
      ]
    },
    {
      "cell_type": "code",
      "metadata": {
        "id": "h2raaIPrEQZs",
        "colab": {
          "base_uri": "https://localhost:8080/"
        },
        "outputId": "6dd9235b-f8c9-4c7f-da71-14d643a54b32"
      },
      "source": [
        "from imblearn.over_sampling import RandomOverSampler\n",
        "from collections import Counter\n",
        "\n",
        "ros = RandomOverSampler(random_state=12)\n",
        "train_data_ros, y_train_ros = ros.fit_resample(X_train, y_train)"
      ],
      "execution_count": 139,
      "outputs": [
        {
          "output_type": "stream",
          "name": "stderr",
          "text": [
            "/usr/local/lib/python3.7/dist-packages/sklearn/utils/deprecation.py:87: FutureWarning: Function safe_indexing is deprecated; safe_indexing is deprecated in version 0.22 and will be removed in version 0.24.\n",
            "  warnings.warn(msg, category=FutureWarning)\n"
          ]
        }
      ]
    },
    {
      "cell_type": "code",
      "metadata": {
        "id": "Kywy7CFvEQZt",
        "colab": {
          "base_uri": "https://localhost:8080/"
        },
        "outputId": "fe6b07b4-5274-4bf8-faef-363a25691174"
      },
      "source": [
        "model_ros = svm.SVC()\n",
        "\n",
        "model_ros.fit(train_data_ros,y_train_ros)\n",
        "y_pred_ros = model_ros.predict(X_test)\n",
        "model_ros.score(X_test,y_test)"
      ],
      "execution_count": 140,
      "outputs": [
        {
          "output_type": "execute_result",
          "data": {
            "text/plain": [
              "0.8309859154929577"
            ]
          },
          "metadata": {},
          "execution_count": 140
        }
      ]
    },
    {
      "cell_type": "code",
      "metadata": {
        "id": "Ruh4URu3EQZu",
        "colab": {
          "base_uri": "https://localhost:8080/"
        },
        "outputId": "12767a05-ad6a-4627-a91f-ff34e7a120ff"
      },
      "source": [
        "print(classification_report(y_test, y_pred_ros))"
      ],
      "execution_count": 141,
      "outputs": [
        {
          "output_type": "stream",
          "name": "stdout",
          "text": [
            "              precision    recall  f1-score   support\n",
            "\n",
            "           0       0.77      0.97      0.86       185\n",
            "           1       0.95      0.68      0.79       170\n",
            "\n",
            "    accuracy                           0.83       355\n",
            "   macro avg       0.86      0.82      0.83       355\n",
            "weighted avg       0.86      0.83      0.83       355\n",
            "\n"
          ]
        }
      ]
    },
    {
      "cell_type": "code",
      "metadata": {
        "id": "PfFlOacPEQZv",
        "colab": {
          "base_uri": "https://localhost:8080/"
        },
        "outputId": "c5ed3dc8-724e-4b29-b1f4-176f312a5cfe"
      },
      "source": [
        "from imblearn.over_sampling import SMOTE\n",
        "oversample = SMOTE()\n",
        "X_train_smote, y_train_smote = oversample.fit_resample(X_train, y_train)"
      ],
      "execution_count": 136,
      "outputs": [
        {
          "output_type": "stream",
          "name": "stderr",
          "text": [
            "/usr/local/lib/python3.7/dist-packages/sklearn/utils/deprecation.py:87: FutureWarning: Function safe_indexing is deprecated; safe_indexing is deprecated in version 0.22 and will be removed in version 0.24.\n",
            "  warnings.warn(msg, category=FutureWarning)\n"
          ]
        }
      ]
    },
    {
      "cell_type": "code",
      "metadata": {
        "id": "oVZlvKvzEQZw",
        "colab": {
          "base_uri": "https://localhost:8080/"
        },
        "outputId": "9f3c122c-42d5-4a18-9e33-dc8bc0749d2f"
      },
      "source": [
        "model_smote = svm.SVC()\n",
        "\n",
        "model_smote.fit(X_train_smote,y_train_smote)\n",
        "y_pred_smote = model_smote.predict(X_test)\n",
        "model_smote.score(X_test,y_test)"
      ],
      "execution_count": 137,
      "outputs": [
        {
          "output_type": "execute_result",
          "data": {
            "text/plain": [
              "0.8084507042253521"
            ]
          },
          "metadata": {},
          "execution_count": 137
        }
      ]
    },
    {
      "cell_type": "code",
      "metadata": {
        "id": "5iE0jQF9EQZx",
        "colab": {
          "base_uri": "https://localhost:8080/"
        },
        "outputId": "c09957a4-8967-408b-cbef-a6df6c7f4b30"
      },
      "source": [
        "print(classification_report(y_test, y_pred_smote))"
      ],
      "execution_count": 138,
      "outputs": [
        {
          "output_type": "stream",
          "name": "stdout",
          "text": [
            "              precision    recall  f1-score   support\n",
            "\n",
            "           0       0.74      0.97      0.84       185\n",
            "           1       0.95      0.64      0.76       170\n",
            "\n",
            "    accuracy                           0.81       355\n",
            "   macro avg       0.85      0.80      0.80       355\n",
            "weighted avg       0.84      0.81      0.80       355\n",
            "\n"
          ]
        }
      ]
    }
  ]
}